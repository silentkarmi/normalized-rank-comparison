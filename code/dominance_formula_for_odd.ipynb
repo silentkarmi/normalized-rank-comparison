{
 "cells": [
  {
   "cell_type": "markdown",
   "id": "986530d4",
   "metadata": {},
   "source": [
    "Note this uses latex as its output printer,\n",
    "You can download that from here: https://miktex.org/download"
   ]
  },
  {
   "cell_type": "code",
   "execution_count": 1,
   "id": "36fb5774",
   "metadata": {},
   "outputs": [],
   "source": [
    "from sympy import *\n",
    "from IPython.display import display\n",
    "\n",
    "init_printing(use_latex=True)\n",
    "\n",
    "#initialization of symbols in \n",
    "i = Symbol('i', integer=True)\n",
    "a = Symbol('a')\n",
    "n_i = Symbol('n_i', integer=True)\n",
    "n = Symbol('N', integer=True)\n",
    "k = Symbol('k', integer=True)\n",
    "\n",
    "r = IndexedBase('r')\n",
    "\n",
    "w_i = Symbol('w_i')\n",
    "s_udh = Symbol('S_UDH')\n",
    "U_i = Symbol('U_i')\n",
    "U_g = Symbol('U_i^G')\n",
    "min = Symbol('min')\n",
    "max = Symbol('max')"
   ]
  },
  {
   "cell_type": "markdown",
   "id": "f8878bea",
   "metadata": {},
   "source": [
    "This is Dominance Formula as in the research paper:"
   ]
  },
  {
   "cell_type": "code",
   "execution_count": 2,
   "id": "b7ccf7ad",
   "metadata": {},
   "outputs": [
    {
     "data": {
      "image/png": "[encoded data removed]",
      "text/latex": [
       "$\\displaystyle \\frac{w_{i} \\sum_{i=1}^{n_{i}} {r}_{i}}{S_{UDH}}$"
      ],
      "text/plain": [
       "    nᵢ       \n",
       "    ___      \n",
       "    ╲        \n",
       "     ╲       \n",
       "wᵢ⋅  ╱   r[i]\n",
       "    ╱        \n",
       "    ‾‾‾      \n",
       "   i = 1     \n",
       "─────────────\n",
       "    S_UDH    "
      ]
     },
     "metadata": {},
     "output_type": "display_data"
    }
   ],
   "source": [
    "sigma_r_i = Sum(r[i], (i, 1, n_i))\n",
    "U_i = w_i * sigma_r_i / s_udh\n",
    "display(U_i)"
   ]
  },
  {
   "cell_type": "markdown",
   "id": "f6c4e2d6",
   "metadata": {},
   "source": [
    "The Sum of Upper dominant half is defined by:"
   ]
  },
  {
   "cell_type": "code",
   "execution_count": 3,
   "id": "6a6c4594",
   "metadata": {},
   "outputs": [
    {
     "data": {
      "image/png": "[encoded data removed]",
      "text/latex": [
       "$\\displaystyle \\frac{N \\left(N + 1\\right)}{2} - \\frac{a \\left(a + 1\\right)}{2}$"
      ],
      "text/plain": [
       "N⋅(N + 1)   a⋅(a + 1)\n",
       "───────── - ─────────\n",
       "    2           2    "
      ]
     },
     "metadata": {},
     "output_type": "display_data"
    }
   ],
   "source": [
    "s_udh = n*(n+1)/2 - a*(a+1)/2\n",
    "display(s_udh)"
   ]
  },
  {
   "cell_type": "markdown",
   "id": "c4db9eb2",
   "metadata": {},
   "source": [
    "And the weight bias by:"
   ]
  },
  {
   "cell_type": "code",
   "execution_count": 4,
   "id": "ffd911d7",
   "metadata": {},
   "outputs": [
    {
     "data": {
      "image/png": "[encoded data removed]",
      "text/latex": [
       "$\\displaystyle \\frac{N}{k n_{i}}$"
      ],
      "text/plain": [
       " N  \n",
       "────\n",
       "k⋅nᵢ"
      ]
     },
     "metadata": {},
     "output_type": "display_data"
    }
   ],
   "source": [
    "w_i = n/(k * n_i)\n",
    "display(w_i)"
   ]
  },
  {
   "cell_type": "markdown",
   "id": "7f3b5b0c",
   "metadata": {},
   "source": [
    "If, we assume that total number of items, across all groups, is odd.\n",
    "\n",
    "Then, its safe to assume a = N-1/2, then $S_{UDH} = $ "
   ]
  },
  {
   "cell_type": "code",
   "execution_count": 5,
   "id": "fa71c7f1",
   "metadata": {},
   "outputs": [
    {
     "data": {
      "image/png": "[encoded data removed]",
      "text/latex": [
       "$\\displaystyle \\frac{\\left(N + 1\\right) \\left(3 N + 1\\right)}{8}$"
      ],
      "text/plain": [
       "(N + 1)⋅(3⋅N + 1)\n",
       "─────────────────\n",
       "        8        "
      ]
     },
     "metadata": {},
     "output_type": "display_data"
    }
   ],
   "source": [
    "a = (n-1)/2\n",
    "s_udh = n*(n+1)/2 - a*(a+1)/2\n",
    "display(simplify(s_udh))"
   ]
  },
  {
   "cell_type": "markdown",
   "id": "565148eb",
   "metadata": {},
   "source": [
    "Note, the minimum feasible value of the expression $\\frac{\\sum r_i}{n_i}$ is: 1, with lowest rank = 1, with a group containing a single element, thus, $n_i=1$,\n",
    "\n",
    "Therefore the minima of the $U_i$:"
   ]
  },
  {
   "cell_type": "code",
   "execution_count": 6,
   "id": "e6b9aee7",
   "metadata": {},
   "outputs": [
    {
     "data": {
      "image/png": "[encoded data removed]",
      "text/latex": [
       "$\\displaystyle \\frac{8 N}{k \\left(N + 1\\right) \\left(3 N + 1\\right)}$"
      ],
      "text/plain": [
       "        8⋅N        \n",
       "───────────────────\n",
       "k⋅(N + 1)⋅(3⋅N + 1)"
      ]
     },
     "metadata": {},
     "output_type": "display_data"
    }
   ],
   "source": [
    "U_i = w_i * sigma_r_i / s_udh\n",
    "minima = U_i.subs({n_i:1}) #number of elements = 1\n",
    "minima = minima.doit()\n",
    "minima = minima.subs({r[1]:1}) #containing one element rank = 1\n",
    "display(simplify(minima))"
   ]
  },
  {
   "cell_type": "markdown",
   "id": "cda4edc4",
   "metadata": {},
   "source": [
    "maximum value would be opposite of minima, which is containing ranks = [2,3,...N], and $n_i$ = N-1\n",
    "\n",
    "Therefore the maxima of the U_i, would be:"
   ]
  },
  {
   "cell_type": "code",
   "execution_count": 7,
   "id": "0b762119",
   "metadata": {},
   "outputs": [
    {
     "data": {
      "image/png": "[encoded data removed]",
      "text/latex": [
       "$\\displaystyle \\frac{4 N \\left(N + 2\\right)}{k \\left(N + 1\\right) \\left(3 N + 1\\right)}$"
      ],
      "text/plain": [
       "    4⋅N⋅(N + 2)    \n",
       "───────────────────\n",
       "k⋅(N + 1)⋅(3⋅N + 1)"
      ]
     },
     "metadata": {},
     "output_type": "display_data"
    }
   ],
   "source": [
    "# Calculate the sum from 2 to n\n",
    "sigma_r_i = Sum(i, (i, 2, n))\n",
    "sigma_r_i = sigma_r_i.doit()\n",
    "U_i = w_i * sigma_r_i / s_udh\n",
    "maxima = U_i.subs({i:2,n_i:n-1})\n",
    "display(factor(maxima))\n"
   ]
  },
  {
   "cell_type": "markdown",
   "id": "7e2c9d97",
   "metadata": {},
   "source": [
    "So, final global Ui would be calculated as:"
   ]
  },
  {
   "cell_type": "code",
   "execution_count": null,
   "id": "813956fc",
   "metadata": {},
   "outputs": [
    {
     "data": {
      "image/png": "[encoded data removed]",
      "text/latex": [
       "$\\displaystyle \\frac{8 N \\sum_{i=1}^{n_{i}} {r}_{i}}{k n_{i} \\left(3 N^{2} + 4 N + 1\\right)}$"
      ],
      "text/plain": [
       "        nᵢ           \n",
       "        ___          \n",
       "        ╲            \n",
       "         ╲           \n",
       "   8⋅N⋅  ╱   r[i]    \n",
       "        ╱            \n",
       "        ‾‾‾          \n",
       "       i = 1         \n",
       "─────────────────────\n",
       "     ⎛   2          ⎞\n",
       "k⋅nᵢ⋅⎝3⋅N  + 4⋅N + 1⎠"
      ]
     },
     "metadata": {},
     "output_type": "display_data"
    },
    {
     "data": {
      "image/png": "[encoded data removed]",
      "text/latex": [
       "$\\displaystyle \\frac{2 \\left(- n_{i} + \\sum_{i=1}^{n_{i}} {r}_{i}\\right)}{N n_{i}}$"
      ],
      "text/plain": [
       "  ⎛       nᵢ       ⎞\n",
       "  ⎜       ___      ⎟\n",
       "  ⎜       ╲        ⎟\n",
       "  ⎜        ╲       ⎟\n",
       "2⋅⎜-nᵢ +   ╱   r[i]⎟\n",
       "  ⎜       ╱        ⎟\n",
       "  ⎜       ‾‾‾      ⎟\n",
       "  ⎝      i = 1     ⎠\n",
       "────────────────────\n",
       "        N⋅nᵢ        "
      ]
     },
     "metadata": {},
     "output_type": "display_data"
    }
   ],
   "source": [
    "i = Symbol('i', integer=True)\n",
    "a = Symbol('a')\n",
    "n_i = Symbol('n_i', integer=True)\n",
    "n = Symbol('N', integer=True)\n",
    "k = Symbol('k', integer=True)\n",
    "\n",
    "r = IndexedBase('r')\n",
    "\n",
    "U_i = Symbol('U_i')\n",
    "\n",
    "\n",
    "sigma_r_i = Sum(r[i], (i, 1, n_i))\n",
    "U_i = w_i * sigma_r_i / s_udh\n",
    "\n",
    "U_g = (U_i - minima)/(maxima - minima)\n",
    "display(factor(U_g))"
   ]
  }
 ],
 "metadata": {
  "kernelspec": {
   "display_name": "Python 3",
   "language": "python",
   "name": "python3"
  },
  "language_info": {
   "codemirror_mode": {
    "name": "ipython",
    "version": 3
   },
   "file_extension": ".py",
   "mimetype": "text/x-python",
   "name": "python",
   "nbconvert_exporter": "python",
   "pygments_lexer": "ipython3",
   "version": "3.13.4"
  }
 },
 "nbformat": 4,
 "nbformat_minor": 5
}
