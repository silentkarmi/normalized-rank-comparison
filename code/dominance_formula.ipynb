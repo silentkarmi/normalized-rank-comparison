{
 "cells": [
  {
   "cell_type": "code",
   "execution_count": 1,
   "id": "36fb5774",
   "metadata": {},
   "outputs": [
    {
     "data": {
      "image/png": "[encoded data removed]",
      "text/latex": [
       "$\\displaystyle \\sum_{i=1}^{n_{i}} r_{i}$"
      ],
      "text/plain": [
       " nᵢ     \n",
       " ___    \n",
       " ╲      \n",
       "  ╲     \n",
       "  ╱   rᵢ\n",
       " ╱      \n",
       " ‾‾‾    \n",
       "i = 1   "
      ]
     },
     "metadata": {},
     "output_type": "display_data"
    }
   ],
   "source": [
    "from sympy import *\n",
    "from IPython.display import display\n",
    "\n",
    "init_printing(use_latex=True)\n",
    "\n",
    "#this is mathematical representation of the formula\n",
    "i = Symbol('i')\n",
    "n_i = Symbol('n_i')\n",
    "N = Symbol('N')\n",
    "k = Symbol('k')\n",
    "r_i = Symbol('r_i')\n",
    "w_i = Symbol('w_i')\n",
    "S_udh = Symbol('S_UDH')\n",
    "U_i = Symbol('U_i')\n",
    "\n",
    "sigma_r_i = Sum(r_i, (i, 1, n_i))\n",
    "display(sigma_r_i)"
   ]
  }
 ],
 "metadata": {
  "kernelspec": {
   "display_name": "Python 3",
   "language": "python",
   "name": "python3"
  },
  "language_info": {
   "codemirror_mode": {
    "name": "ipython",
    "version": 3
   },
   "file_extension": ".py",
   "mimetype": "text/x-python",
   "name": "python",
   "nbconvert_exporter": "python",
   "pygments_lexer": "ipython3",
   "version": "3.13.4"
  }
 },
 "nbformat": 4,
 "nbformat_minor": 5
}
