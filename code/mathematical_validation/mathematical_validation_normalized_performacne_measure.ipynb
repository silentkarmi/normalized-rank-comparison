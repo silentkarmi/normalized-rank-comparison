{
 "cells": [
  {
   "cell_type": "markdown",
   "id": "986530d4",
   "metadata": {},
   "source": [
    "Note this uses latex as its output printer,\n",
    "You can download that from here: https://miktex.org/download\n",
    "\n",
    "Symbols overview: <br>\n",
    "$w_i$: Weight bias for group $i$. <br>\n",
    "$n_i$: Number of items in group $i$. <br>\n",
    "$N$: Total number of items. <br>\n",
    "$k$: Number of groups."
   ]
  },
  {
   "cell_type": "code",
   "execution_count": null,
   "id": "36fb5774",
   "metadata": {},
   "outputs": [],
   "source": [
    "from sympy import *\n",
    "from IPython.display import display\n",
    "\n",
    "init_printing(use_latex=True)\n",
    "\n",
    "#initialization of symbols for Sympy library\n",
    "i = Symbol('i', integer=True)\n",
    "j = Symbol('j', integer=True)\n",
    "a = Symbol('a', integer=True)\n",
    "n_i = Symbol('n_i', integer=True)\n",
    "n = Symbol('N', integer=True)\n",
    "k = Symbol('k', integer=True)\n",
    "r = IndexedBase('r')\n",
    "\n",
    "X_e = Symbol(\"X_e\") # Expected count in a group\n",
    "w_i = Symbol('w_i')\n",
    "s_udh = Symbol('S_UDH')\n",
    "p_i = Symbol('p_i^{(non\\text{-}normalized)}') # Non-normalized Performance Measure\n",
    "p_i_min = Symbol('p_i^{(min,non-normalized)}') # Minima of Non-normalized Peformance Measure\n",
    "p_i_max = Symbol('p_i^{(max,non-normalized)}') # Maxima of Non-normalized Performance Measure\n",
    "\n",
    "P_i = Symbol('P_i') #Normalized Performance Measure"
   ]
  },
  {
   "cell_type": "markdown",
   "id": "f8878bea",
   "metadata": {},
   "source": [
    "This non-normalized performance measure, $p_i^{(non\\text{-}normalized)}$ is given by:\n"
   ]
  },
  {
   "cell_type": "code",
   "execution_count": 12,
   "id": "b7ccf7ad",
   "metadata": {},
   "outputs": [
    {
     "data": {
      "image/png": "[encoded data removed]",
      "text/latex": [
       "$\\displaystyle \\frac{w_{i} \\sum_{j=1}^{n_{i}} {r}_{j}}{S_{UDH}}$"
      ],
      "text/plain": [
       "    nᵢ       \n",
       "    ___      \n",
       "    ╲        \n",
       "     ╲       \n",
       "wᵢ⋅  ╱   r[j]\n",
       "    ╱        \n",
       "    ‾‾‾      \n",
       "   j = 1     \n",
       "─────────────\n",
       "    S_UDH    "
      ]
     },
     "metadata": {},
     "output_type": "display_data"
    }
   ],
   "source": [
    "sigma_r_j = Sum(r[j], (j, 1, n_i))\n",
    "p_i = w_i * sigma_r_j / s_udh\n",
    "display(p_i)"
   ]
  },
  {
   "cell_type": "markdown",
   "id": "f6c4e2d6",
   "metadata": {},
   "source": [
    "The Sum of Upper dominant half, $S_{UDH}$ is defined by:"
   ]
  },
  {
   "cell_type": "code",
   "execution_count": 13,
   "id": "6a6c4594",
   "metadata": {},
   "outputs": [
    {
     "data": {
      "image/png": "[encoded data removed]",
      "text/latex": [
       "$\\displaystyle \\frac{N \\left(N + 1\\right)}{2} - \\frac{a \\left(a + 1\\right)}{2}$"
      ],
      "text/plain": [
       "N⋅(N + 1)   a⋅(a + 1)\n",
       "───────── - ─────────\n",
       "    2           2    "
      ]
     },
     "metadata": {},
     "output_type": "display_data"
    }
   ],
   "source": [
    "s_udh = n*(n+1)/2 - a*(a+1)/2\n",
    "display(s_udh)"
   ]
  },
  {
   "cell_type": "markdown",
   "id": "c4db9eb2",
   "metadata": {},
   "source": [
    "And the weight bias derivation ($w_i$):"
   ]
  },
  {
   "cell_type": "code",
   "execution_count": 14,
   "id": "ffd911d7",
   "metadata": {},
   "outputs": [
    {
     "data": {
      "image/png": "[encoded data removed]",
      "text/latex": [
       "$\\displaystyle \\frac{N}{k n_{i}}$"
      ],
      "text/plain": [
       " N  \n",
       "────\n",
       "k⋅nᵢ"
      ]
     },
     "metadata": {},
     "output_type": "display_data"
    }
   ],
   "source": [
    "X_e = n/k\n",
    "fractional_change = (X_e - n_i)/n_i\n",
    "w_i = 1 + fractional_change\n",
    "display(simplify(w_i))"
   ]
  },
  {
   "cell_type": "markdown",
   "id": "7f3b5b0c",
   "metadata": {},
   "source": [
    "If, we assume that total number of items, across all groups, is even i.e N is even.\n",
    "\n",
    "Then, its safe to assume a = N/2, therefore when N is even, $S_{UDH} = $ "
   ]
  },
  {
   "cell_type": "code",
   "execution_count": 15,
   "id": "fa71c7f1",
   "metadata": {},
   "outputs": [
    {
     "data": {
      "image/png": "[encoded data removed]",
      "text/latex": [
       "$\\displaystyle \\frac{N \\left(3 N + 2\\right)}{8}$"
      ],
      "text/plain": [
       "N⋅(3⋅N + 2)\n",
       "───────────\n",
       "     8     "
      ]
     },
     "metadata": {},
     "output_type": "display_data"
    }
   ],
   "source": [
    "a = n/2\n",
    "s_udh = n*(n+1)/2 - a*(a+1)/2\n",
    "display(simplify(s_udh))"
   ]
  },
  {
   "cell_type": "markdown",
   "id": "d4e58a88",
   "metadata": {},
   "source": [
    "For even number of N, $p_i^{(non\\text{-}normalized)} = $"
   ]
  },
  {
   "cell_type": "code",
   "execution_count": 16,
   "id": "bfd22b59",
   "metadata": {},
   "outputs": [
    {
     "data": {
      "image/png": "[encoded data removed]",
      "text/latex": [
       "$\\displaystyle \\frac{8 \\sum_{j=1}^{n_{i}} {r}_{j}}{k n_{i} \\left(3 N + 2\\right)}$"
      ],
      "text/plain": [
       "    nᵢ        \n",
       "    ___       \n",
       "    ╲         \n",
       "     ╲        \n",
       " 8⋅  ╱   r[j] \n",
       "    ╱         \n",
       "    ‾‾‾       \n",
       "   j = 1      \n",
       "──────────────\n",
       "k⋅nᵢ⋅(3⋅N + 2)"
      ]
     },
     "metadata": {},
     "output_type": "display_data"
    }
   ],
   "source": [
    "p_i = w_i * sigma_r_j / s_udh\n",
    "display(simplify(p_i))"
   ]
  },
  {
   "cell_type": "markdown",
   "id": "565148eb",
   "metadata": {},
   "source": [
    "The minima, depends on $\\frac{\\sum r_j}{n_i}$. And, for this to be low $\\sum r_j$ should be low. That means $r_j$ have to occupy the lowest ranks such as 1, 2, 3,... so on. We can rewrite $\\frac{\\sum r_j}{n_i}$ in this format below:\n",
    "\n",
    "\\begin{equation}\n",
    "\t = \\frac{\\sum r_j}{n_i} = \\frac{\\frac{n_i}{2}(1+n_i)}{n_i} = \\frac{1}{2} \\cdot n_i + \\frac{1}{2}\n",
    "\\end{equation}\n",
    "\n",
    "As this is a linearly increasing line equation with a positive slope ($y = mx + C$), minima of $\\frac{\\sum r_j}{n_i}$ occurs when $n_i = 1$, as $n_i$ is a natural number and can't be zero or negative, hence, substituting $n_i = 1$, we get, $\\frac{\\sum r_j}{n_i} = \\frac{1}{2} + \\frac{1}{2} = 1$, hence  $\\frac{\\sum r_j}{n_i} = 1 $\n",
    "\n",
    "Therefore $p_i^{(min, \\, non\\text{-}normalized)}$ ="
   ]
  },
  {
   "cell_type": "code",
   "execution_count": 17,
   "id": "e6b9aee7",
   "metadata": {},
   "outputs": [
    {
     "data": {
      "image/png": "[encoded data removed]",
      "text/latex": [
       "$\\displaystyle \\frac{8}{k \\left(3 N + 2\\right)}$"
      ],
      "text/plain": [
       "     8     \n",
       "───────────\n",
       "k⋅(3⋅N + 2)"
      ]
     },
     "metadata": {},
     "output_type": "display_data"
    }
   ],
   "source": [
    "p_i_min = p_i.subs({n_i:1}) # number of elements = 1\n",
    "p_i_min = p_i_min.doit()\n",
    "p_i_min = p_i_min.subs({r[1]:1}) # containing one element rank = 1\n",
    "display(simplify(p_i_min))"
   ]
  },
  {
   "cell_type": "markdown",
   "id": "cda4edc4",
   "metadata": {},
   "source": [
    "Maxima depends on $\\frac{\\sum r_j}{n_i}$, which needs to be maximized. Therefore, $r_j$ will contain higher ranks, such as N, N-1, N-2,...,k. So, The lowest rank in this arithmetic series can contain is k. Because, there are k groups, that means, each will have at least one element, occupying the lowest ranks, to maximize $\\frac{\\sum r_j}{n_i}$. That means, first group will contain rank 1, second group will contain rank 2, so on..., and the $k^{th}$ group will have the rest of the elements from rank $k^{th}$ to $N^{th}$ element which we are trying to maximize. Then $\\sum r_j$, can be expanded to:\n",
    "\\begin{equation}\n",
    "\t\\frac{(N-k+1)(N+k)}{2}\n",
    "\\end{equation}\n",
    "As, $n_i$ are the number of elements in the group which is equal to $N-k+1$, then simplifying $\\frac{\\sum r_j}{n_i}$, we get:\n",
    "\\begin{equation}\n",
    "\t\\frac{N+k}{2}\n",
    "\\end{equation}\n",
    "\n",
    "Now to maximize, we can substitute k with N, as k are number of groups, and the max number of groups would be equal to total number of items in the collection, where each group has just one element.\n",
    "hence maximum value comes out to be:\n",
    "\\begin{equation}\n",
    "\t\\frac{\\sum r_j}{n_i} = N\n",
    "\\end{equation}\n",
    "\n",
    "Therefore $p_i^{(max, \\, non\\text{-}normalized)}$ ="
   ]
  },
  {
   "cell_type": "code",
   "execution_count": 18,
   "id": "0b762119",
   "metadata": {},
   "outputs": [
    {
     "data": {
      "image/png": "[encoded data removed]",
      "text/latex": [
       "$\\displaystyle \\frac{8 N}{k \\left(3 N + 2\\right)}$"
      ],
      "text/plain": [
       "    8⋅N    \n",
       "───────────\n",
       "k⋅(3⋅N + 2)"
      ]
     },
     "metadata": {},
     "output_type": "display_data"
    }
   ],
   "source": [
    "p_i_max = p_i.subs({n_i:1}) # number of elements = 1\n",
    "p_i_max = p_i_max.doit()\n",
    "p_i_max = p_i_max.subs({r[1]:n}) # containing one element rank = Nth\n",
    "display(simplify(p_i_max))\n"
   ]
  },
  {
   "cell_type": "markdown",
   "id": "7e2c9d97",
   "metadata": {},
   "source": [
    "Final formualae for Normalized Performance Measure is given by:\n",
    "\\begin{equation}\n",
    "\tP_i = \\frac{p_i^{(non\\text{-}normalized)} - p_i^{(min, \\, non\\text{-}normalized)}}{p_i^{(max, \\, non\\text{-}normalized)} - p_i^{(min, \\, non\\text{-}normalized)}}\n",
    "\\end{equation}"
   ]
  },
  {
   "cell_type": "code",
   "execution_count": 19,
   "id": "813956fc",
   "metadata": {},
   "outputs": [
    {
     "data": {
      "image/png": "[encoded data removed]",
      "text/latex": [
       "$\\displaystyle \\frac{- n_{i} + \\sum_{j=1}^{n_{i}} {r}_{j}}{n_{i} \\left(N - 1\\right)}$"
      ],
      "text/plain": [
       "       nᵢ       \n",
       "       ___      \n",
       "       ╲        \n",
       "        ╲       \n",
       "-nᵢ +   ╱   r[j]\n",
       "       ╱        \n",
       "       ‾‾‾      \n",
       "      j = 1     \n",
       "────────────────\n",
       "   nᵢ⋅(N - 1)   "
      ]
     },
     "metadata": {},
     "output_type": "display_data"
    }
   ],
   "source": [
    "P_i = (p_i - p_i_min)/(p_i_max - p_i_min)\n",
    "display(factor(simplify(P_i)))"
   ]
  },
  {
   "cell_type": "markdown",
   "id": "a3a1474d",
   "metadata": {},
   "source": [
    "Similarly, when N is odd.\n",
    "\n",
    "Normalized performance measure formula is same. Because the, Sum of Upper Dominant half ($S_{UDH}$), maxima and minima just differ slightly in nature. But, as these terms occur in the numerator and denominator, they cancel each other out. And, the Normalized Performance Measure remains unchanged. Just, to be complete, we will just list down the equations, which result in the same formula as above.\n",
    "\n",
    "As, N is odd, where $N^{(min)} = 3$, because there has to be minimum of two groups, therefore, we will take,\n",
    "\\begin{align*}\n",
    "\ta = \\frac{N-1}{2}\n",
    "\\end{align*}\n",
    "\n",
    "Thus, the lower and upper halves would be explicitly:\n",
    "[1,$\\frac{N-1}{2}$] and [$\\frac{N+1}{2}$, N]\n",
    "\n",
    "when N is odd:"
   ]
  },
  {
   "cell_type": "code",
   "execution_count": 20,
   "id": "25395a5a",
   "metadata": {},
   "outputs": [
    {
     "data": {
      "text/plain": [
       "'N is odd then,'"
      ]
     },
     "metadata": {},
     "output_type": "display_data"
    },
    {
     "data": {
      "text/plain": [
       "'S_UDH = '"
      ]
     },
     "metadata": {},
     "output_type": "display_data"
    },
    {
     "data": {
      "image/png": "[encoded data removed]",
      "text/latex": [
       "$\\displaystyle \\frac{\\left(N + 1\\right) \\left(3 N + 1\\right)}{8}$"
      ],
      "text/plain": [
       "(N + 1)⋅(3⋅N + 1)\n",
       "─────────────────\n",
       "        8        "
      ]
     },
     "metadata": {},
     "output_type": "display_data"
    },
    {
     "data": {
      "text/plain": [
       "'p_i_normalized = '"
      ]
     },
     "metadata": {},
     "output_type": "display_data"
    },
    {
     "data": {
      "image/png": "[encoded data removed]",
      "text/latex": [
       "$\\displaystyle \\frac{8 N \\sum_{j=1}^{n_{i}} {r}_{j}}{k n_{i} \\left(3 N^{2} + 4 N + 1\\right)}$"
      ],
      "text/plain": [
       "        nᵢ           \n",
       "        ___          \n",
       "        ╲            \n",
       "         ╲           \n",
       "   8⋅N⋅  ╱   r[j]    \n",
       "        ╱            \n",
       "        ‾‾‾          \n",
       "       j = 1         \n",
       "─────────────────────\n",
       "     ⎛   2          ⎞\n",
       "k⋅nᵢ⋅⎝3⋅N  + 4⋅N + 1⎠"
      ]
     },
     "metadata": {},
     "output_type": "display_data"
    },
    {
     "data": {
      "text/plain": [
       "'p_i_minima_non-normalized = '"
      ]
     },
     "metadata": {},
     "output_type": "display_data"
    },
    {
     "data": {
      "image/png": "[encoded data removed]",
      "text/latex": [
       "$\\displaystyle \\frac{8 N}{k \\left(N + 1\\right) \\left(3 N + 1\\right)}$"
      ],
      "text/plain": [
       "        8⋅N        \n",
       "───────────────────\n",
       "k⋅(N + 1)⋅(3⋅N + 1)"
      ]
     },
     "metadata": {},
     "output_type": "display_data"
    },
    {
     "data": {
      "text/plain": [
       "'p_i_maxima_non-normalized = '"
      ]
     },
     "metadata": {},
     "output_type": "display_data"
    },
    {
     "data": {
      "image/png": "[encoded data removed]",
      "text/latex": [
       "$\\displaystyle \\frac{8 N^{2}}{k \\left(N + 1\\right) \\left(3 N + 1\\right)}$"
      ],
      "text/plain": [
       "          2        \n",
       "       8⋅N         \n",
       "───────────────────\n",
       "k⋅(N + 1)⋅(3⋅N + 1)"
      ]
     },
     "metadata": {},
     "output_type": "display_data"
    },
    {
     "data": {
      "text/plain": [
       "'Normalized Performance Measure, P_i = '"
      ]
     },
     "metadata": {},
     "output_type": "display_data"
    },
    {
     "data": {
      "image/png": "[encoded data removed]",
      "text/latex": [
       "$\\displaystyle \\frac{- n_{i} + \\sum_{j=1}^{n_{i}} {r}_{j}}{n_{i} \\left(N - 1\\right)}$"
      ],
      "text/plain": [
       "       nᵢ       \n",
       "       ___      \n",
       "       ╲        \n",
       "        ╲       \n",
       "-nᵢ +   ╱   r[j]\n",
       "       ╱        \n",
       "       ‾‾‾      \n",
       "      j = 1     \n",
       "────────────────\n",
       "   nᵢ⋅(N - 1)   "
      ]
     },
     "metadata": {},
     "output_type": "display_data"
    }
   ],
   "source": [
    "display(\"N is odd then,\")\n",
    "\n",
    "a = (n - 1)/2\n",
    "s_udh = n*(n+1)/2 - a*(a+1)/2\n",
    "display(\"S_UDH = \",simplify(s_udh))\n",
    "\n",
    "p_i = w_i * sigma_r_j / s_udh\n",
    "display(\"p_i_normalized = \", simplify(p_i))\n",
    "\n",
    "p_i_min = p_i.subs({n_i:1}) # number of elements = 1\n",
    "p_i_min = p_i_min.doit()\n",
    "p_i_min = p_i_min.subs({r[1]:1}) # containing one element rank = 1\n",
    "display(\"p_i_minima_non-normalized = \",simplify(p_i_min))\n",
    "\n",
    "p_i_max = p_i.subs({n_i:1}) # number of elements = 1\n",
    "p_i_max = p_i_max.doit()\n",
    "p_i_max = p_i_max.subs({r[1]:n}) # containing one element rank = Nth\n",
    "display(\"p_i_maxima_non-normalized = \",simplify(p_i_max))\n",
    "\n",
    "P_i = (p_i - p_i_min)/(p_i_max - p_i_min)\n",
    "display(\"Normalized Performance Measure, P_i = \", factor(simplify(P_i)))"
   ]
  }
 ],
 "metadata": {
  "kernelspec": {
   "display_name": "Python 3",
   "language": "python",
   "name": "python3"
  },
  "language_info": {
   "codemirror_mode": {
    "name": "ipython",
    "version": 3
   },
   "file_extension": ".py",
   "mimetype": "text/x-python",
   "name": "python",
   "nbconvert_exporter": "python",
   "pygments_lexer": "ipython3",
   "version": "3.13.4"
  }
 },
 "nbformat": 4,
 "nbformat_minor": 5
}
